{
 "cells": [
  {
   "cell_type": "code",
   "execution_count": 1,
   "id": "d7c4be32",
   "metadata": {},
   "outputs": [
    {
     "name": "stdout",
     "output_type": "stream",
     "text": [
      "Requirement already satisfied: pyodbc in c:\\users\\dell\\anaconda3\\lib\\site-packages (4.0.34)\n",
      "Requirement already satisfied: pandas in c:\\users\\dell\\anaconda3\\lib\\site-packages (2.0.3)\n",
      "Requirement already satisfied: sqlalchemy in c:\\users\\dell\\anaconda3\\lib\\site-packages (1.2.19)\n",
      "Requirement already satisfied: python-dateutil>=2.8.2 in c:\\users\\dell\\anaconda3\\lib\\site-packages (from pandas) (2.9.0.post0)\n",
      "Requirement already satisfied: pytz>=2020.1 in c:\\users\\dell\\anaconda3\\lib\\site-packages (from pandas) (2022.7)\n",
      "Requirement already satisfied: tzdata>=2022.1 in c:\\users\\dell\\anaconda3\\lib\\site-packages (from pandas) (2023.3)\n",
      "Requirement already satisfied: numpy>=1.21.0 in c:\\users\\dell\\anaconda3\\lib\\site-packages (from pandas) (1.24.3)\n",
      "Requirement already satisfied: six>=1.5 in c:\\users\\dell\\anaconda3\\lib\\site-packages (from python-dateutil>=2.8.2->pandas) (1.16.0)\n"
     ]
    }
   ],
   "source": [
    "# Step 1: Install required packages (run only once)\n",
    "!pip install pyodbc pandas sqlalchemy\n"
   ]
  },
  {
   "cell_type": "code",
   "execution_count": 2,
   "id": "a14d8435",
   "metadata": {},
   "outputs": [],
   "source": [
    "# Step 2: Import libraries\n",
    "import pandas as pd\n",
    "from sqlalchemy import create_engine\n"
   ]
  },
  {
   "cell_type": "code",
   "execution_count": 4,
   "id": "7292048d",
   "metadata": {},
   "outputs": [
    {
     "name": "stdout",
     "output_type": "stream",
     "text": [
      "Requirement already satisfied: sqlalchemy in c:\\users\\dell\\anaconda3\\lib\\site-packages (1.2.19)\n",
      "Collecting sqlalchemy\n",
      "  Obtaining dependency information for sqlalchemy from https://files.pythonhosted.org/packages/9a/48/440946bf9dc4dc231f4f31ef0d316f7135bf41d4b86aaba0c0655150d370/sqlalchemy-2.0.40-cp311-cp311-win_amd64.whl.metadata\n",
      "  Downloading sqlalchemy-2.0.40-cp311-cp311-win_amd64.whl.metadata (9.9 kB)\n",
      "Requirement already satisfied: greenlet>=1 in c:\\users\\dell\\anaconda3\\lib\\site-packages (from sqlalchemy) (2.0.1)\n",
      "Requirement already satisfied: typing-extensions>=4.6.0 in c:\\users\\dell\\anaconda3\\lib\\site-packages (from sqlalchemy) (4.7.1)\n",
      "Downloading sqlalchemy-2.0.40-cp311-cp311-win_amd64.whl (2.1 MB)\n",
      "   ---------------------------------------- 0.0/2.1 MB ? eta -:--:--\n",
      "    --------------------------------------- 0.0/2.1 MB 991.0 kB/s eta 0:00:03\n",
      "   - -------------------------------------- 0.1/2.1 MB 991.0 kB/s eta 0:00:03\n",
      "   -- ------------------------------------- 0.1/2.1 MB 1.0 MB/s eta 0:00:02\n",
      "   --- ------------------------------------ 0.2/2.1 MB 1.1 MB/s eta 0:00:02\n",
      "   --- ------------------------------------ 0.2/2.1 MB 958.4 kB/s eta 0:00:02\n",
      "   ---- ----------------------------------- 0.2/2.1 MB 901.1 kB/s eta 0:00:03\n",
      "   ----- ---------------------------------- 0.3/2.1 MB 899.5 kB/s eta 0:00:03\n",
      "   ----- ---------------------------------- 0.3/2.1 MB 806.1 kB/s eta 0:00:03\n",
      "   ------ --------------------------------- 0.3/2.1 MB 807.1 kB/s eta 0:00:03\n",
      "   ------- -------------------------------- 0.4/2.1 MB 867.0 kB/s eta 0:00:02\n",
      "   -------- ------------------------------- 0.4/2.1 MB 888.6 kB/s eta 0:00:02\n",
      "   -------- ------------------------------- 0.5/2.1 MB 894.8 kB/s eta 0:00:02\n",
      "   ---------- ----------------------------- 0.5/2.1 MB 903.5 kB/s eta 0:00:02\n",
      "   ---------- ----------------------------- 0.6/2.1 MB 891.2 kB/s eta 0:00:02\n",
      "   ----------- ---------------------------- 0.6/2.1 MB 874.1 kB/s eta 0:00:02\n",
      "   ----------- ---------------------------- 0.6/2.1 MB 841.4 kB/s eta 0:00:02\n",
      "   ------------ --------------------------- 0.6/2.1 MB 829.9 kB/s eta 0:00:02\n",
      "   ------------- -------------------------- 0.7/2.1 MB 882.8 kB/s eta 0:00:02\n",
      "   -------------- ------------------------- 0.8/2.1 MB 911.0 kB/s eta 0:00:02\n",
      "   ---------------- ----------------------- 0.9/2.1 MB 938.1 kB/s eta 0:00:02\n",
      "   ---------------- ----------------------- 0.9/2.1 MB 924.1 kB/s eta 0:00:02\n",
      "   ----------------- ---------------------- 0.9/2.1 MB 921.6 kB/s eta 0:00:02\n",
      "   ------------------ --------------------- 1.0/2.1 MB 920.2 kB/s eta 0:00:02\n",
      "   ------------------ --------------------- 1.0/2.1 MB 911.9 kB/s eta 0:00:02\n",
      "   ------------------- -------------------- 1.0/2.1 MB 901.1 kB/s eta 0:00:02\n",
      "   -------------------- ------------------- 1.1/2.1 MB 909.4 kB/s eta 0:00:02\n",
      "   -------------------- ------------------- 1.1/2.1 MB 902.3 kB/s eta 0:00:02\n",
      "   --------------------- ------------------ 1.1/2.1 MB 863.3 kB/s eta 0:00:02\n",
      "   --------------------- ------------------ 1.1/2.1 MB 871.3 kB/s eta 0:00:02\n",
      "   --------------------- ------------------ 1.1/2.1 MB 871.3 kB/s eta 0:00:02\n",
      "   --------------------- ------------------ 1.1/2.1 MB 871.3 kB/s eta 0:00:02\n",
      "   ----------------------- ---------------- 1.2/2.1 MB 830.1 kB/s eta 0:00:02\n",
      "   ------------------------ --------------- 1.3/2.1 MB 839.7 kB/s eta 0:00:02\n",
      "   ------------------------- -------------- 1.3/2.1 MB 839.1 kB/s eta 0:00:01\n",
      "   -------------------------- ------------- 1.4/2.1 MB 861.4 kB/s eta 0:00:01\n",
      "   -------------------------- ------------- 1.4/2.1 MB 849.2 kB/s eta 0:00:01\n",
      "   ---------------------------- ----------- 1.5/2.1 MB 877.9 kB/s eta 0:00:01\n",
      "   ------------------------------ --------- 1.6/2.1 MB 907.0 kB/s eta 0:00:01\n",
      "   ------------------------------- -------- 1.6/2.1 MB 919.9 kB/s eta 0:00:01\n",
      "   -------------------------------- ------- 1.7/2.1 MB 941.1 kB/s eta 0:00:01\n",
      "   --------------------------------- ------ 1.8/2.1 MB 944.8 kB/s eta 0:00:01\n",
      "   ----------------------------------- ---- 1.9/2.1 MB 956.9 kB/s eta 0:00:01\n",
      "   ------------------------------------ --- 1.9/2.1 MB 967.8 kB/s eta 0:00:01\n",
      "   ------------------------------------- -- 2.0/2.1 MB 985.9 kB/s eta 0:00:01\n",
      "   ---------------------------------------  2.1/2.1 MB 993.2 kB/s eta 0:00:01\n",
      "   ---------------------------------------- 2.1/2.1 MB 995.7 kB/s eta 0:00:00\n",
      "Installing collected packages: sqlalchemy\n",
      "  Attempting uninstall: sqlalchemy\n",
      "    Found existing installation: SQLAlchemy 1.2.19\n",
      "    Uninstalling SQLAlchemy-1.2.19:\n",
      "      Successfully uninstalled SQLAlchemy-1.2.19\n",
      "Successfully installed sqlalchemy-2.0.40\n"
     ]
    },
    {
     "name": "stderr",
     "output_type": "stream",
     "text": [
      "ERROR: pip's dependency resolver does not currently take into account all the packages that are installed. This behaviour is the source of the following dependency conflicts.\n",
      "chatterbot 1.0.0 requires python-dateutil<2.8,>=2.7, but you have python-dateutil 2.9.0.post0 which is incompatible.\n",
      "chatterbot 1.0.0 requires sqlalchemy<1.3,>=1.2, but you have sqlalchemy 2.0.40 which is incompatible.\n"
     ]
    }
   ],
   "source": [
    "!pip install --upgrade sqlalchemy\n"
   ]
  },
  {
   "cell_type": "code",
   "execution_count": 3,
   "id": "b58d2790",
   "metadata": {},
   "outputs": [
    {
     "name": "stdout",
     "output_type": "stream",
     "text": [
      "Original Data:\n",
      "      Name  Age          City\n",
      "0    Alice   25      New York\n",
      "1      Bob   30   Los Angeles\n",
      "2  Charlie   22       Chicago\n",
      "3    David   35       Houston\n",
      "4      Eve   28       Phoenix\n",
      "5    Frank   40  Philadelphia\n",
      "6    Grace   31   San Antonio\n",
      "7   Hannah   29     San Diego\n",
      "8      Ian   26        Dallas\n",
      "9     Jack   33      San Jose\n"
     ]
    }
   ],
   "source": [
    "# Step 3: Extract - Read CSV file\n",
    "df = pd.read_csv('sample_data.csv')  # Place this file in your working directory\n",
    "print(\"Original Data:\")\n",
    "print(df)\n"
   ]
  },
  {
   "cell_type": "code",
   "execution_count": 4,
   "id": "27431498",
   "metadata": {},
   "outputs": [
    {
     "name": "stdout",
     "output_type": "stream",
     "text": [
      "Data loaded into table 'information' in database 'master'\n"
     ]
    }
   ],
   "source": [
    "# Step 5: Load - Connect to SQL Server and load data\n",
    "\n",
    "# Change these as per your environment\n",
    "server = 'localhost'             # Or your IP address\n",
    "database = 'master'              # Your DB name\n",
    "driver = 'ODBC Driver 17 for SQL Server'  # Or 18 if you installed that\n",
    "table_name = 'information'            # Destination table name\n",
    "\n",
    "# Create SQLAlchemy engine\n",
    "engine = create_engine(\n",
    "    f\"mssql+pyodbc://@{server}/{database}?driver={driver}&trusted_connection=yes\"\n",
    ")\n",
    "\n",
    "# Load data into SQL Server\n",
    "df.to_sql(table_name, con=engine, if_exists='replace', index=False)\n",
    "\n",
    "print(f\"Data loaded into table '{table_name}' in database '{database}'\")\n"
   ]
  },
  {
   "cell_type": "code",
   "execution_count": 11,
   "id": "398122ab",
   "metadata": {},
   "outputs": [
    {
     "name": "stdout",
     "output_type": "stream",
     "text": [
      "['SQL Server', 'Microsoft Access Driver (*.mdb, *.accdb)', 'Microsoft Excel Driver (*.xls, *.xlsx, *.xlsm, *.xlsb)', 'Microsoft Access Text Driver (*.txt, *.csv)', 'Microsoft Access dBASE Driver (*.dbf, *.ndx, *.mdx)', 'SQL Server Native Client RDA 11.0', 'ODBC Driver 17 for SQL Server']\n"
     ]
    }
   ],
   "source": [
    "import pyodbc\n",
    "print(pyodbc.drivers())\n"
   ]
  },
  {
   "cell_type": "code",
   "execution_count": 19,
   "id": "4a010812",
   "metadata": {},
   "outputs": [
    {
     "name": "stdout",
     "output_type": "stream",
     "text": [
      "Data in SQL Server:\n",
      "      Name  Age          City\n",
      "0    Alice   25      New York\n",
      "1      Bob   30   Los Angeles\n",
      "2  Charlie   22       Chicago\n",
      "3    David   35       Houston\n",
      "4      Eve   28       Phoenix\n",
      "5    Frank   40  Philadelphia\n",
      "6    Grace   31   San Antonio\n",
      "7   Hannah   29     San Diego\n",
      "8      Ian   26        Dallas\n",
      "9     Jack   33      San Jose\n"
     ]
    }
   ],
   "source": [
    "# Read back the data to verify\n",
    "with engine.connect() as conn:\n",
    "    result = pd.read_sql(f\"SELECT * FROM {table_name}\", conn)\n",
    "    print(\"Data in SQL Server:\")\n",
    "    print(result)\n"
   ]
  },
  {
   "cell_type": "code",
   "execution_count": null,
   "id": "ae07b60e",
   "metadata": {},
   "outputs": [],
   "source": [
    ":\\Users\\DELL>sqlcmd -S localhost -E\n",
    "1> USE master\n",
    "2> GO\n",
    "Changed database context to 'master'.\n",
    "1> SELECT * FROM information\n",
    "2> GO"
   ]
  }
 ],
 "metadata": {
  "kernelspec": {
   "display_name": "Python 3 (ipykernel)",
   "language": "python",
   "name": "python3"
  },
  "language_info": {
   "codemirror_mode": {
    "name": "ipython",
    "version": 3
   },
   "file_extension": ".py",
   "mimetype": "text/x-python",
   "name": "python",
   "nbconvert_exporter": "python",
   "pygments_lexer": "ipython3",
   "version": "3.11.4"
  }
 },
 "nbformat": 4,
 "nbformat_minor": 5
}
